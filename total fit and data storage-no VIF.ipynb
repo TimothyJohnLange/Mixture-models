{
 "cells": [
  {
   "cell_type": "code",
   "execution_count": 1,
   "metadata": {
    "collapsed": true
   },
   "outputs": [],
   "source": [
    "import pandas as pd\n",
    "from sklearn.linear_model import LinearRegression\n",
    "from sklearn.model_selection import cross_val_score, ShuffleSplit\n",
    "import numpy as np\n",
    "from itertools import combinations\n",
    "import statsmodels.api as sm\n",
    "import statsmodels.tools as st\n",
    "from statsmodels.stats.outliers_influence import variance_inflation_factor\n",
    "import time\n",
    "import matplotlib.pyplot as plt\n",
    "%matplotlib inline"
   ]
  },
  {
   "cell_type": "code",
   "execution_count": 2,
   "metadata": {
    "collapsed": true
   },
   "outputs": [],
   "source": [
    "def import_data(experimental_file, response_file, response):\n",
    "    'imports data'\n",
    "    'experimental_file = experimental design csv filename i.e experimental.csv'\n",
    "    'response_file = results csv filename i.e Response.csv'\n",
    "    'response = reponse name: i.e rheomix final deg time min or rheomix stability time min'\n",
    "    \n",
    "    experimental_df = pd.read_csv(experimental_file)\n",
    "    response_df = pd.read_csv(response_file)\n",
    "    \n",
    "    X = experimental_df[experimental_df.columns.values.tolist()[1:]].values\n",
    "    y = response_df[response].values\n",
    "    max1 = max(y)\n",
    "    min1 = min(y)\n",
    "\n",
    "    y_norm = [2*((i-min1)/(max1-min1)) - 1 for i in y]\n",
    "    \n",
    "    \n",
    "    X_linear = X\n",
    "    linear_terms = experimental_df.columns.values.tolist()[1:]\n",
    "    \n",
    "    return y_norm, X_linear, linear_terms, experimental_df, response_df\n",
    "    "
   ]
  },
  {
   "cell_type": "code",
   "execution_count": 3,
   "metadata": {
    "collapsed": true
   },
   "outputs": [],
   "source": [
    "def X_gen(model, X_linear):\n",
    "\n",
    "    for i, j in enumerate(model):\n",
    "        \n",
    "        if i == 0 and len(j) == 2: \n",
    "            X_new = X_linear[:, model[0][1]]\n",
    "        \n",
    "        else:\n",
    "            \n",
    "            if len(j) == 2:\n",
    "                add = X_linear[:, j[1]]\n",
    "\n",
    "            if len(j) == 3:\n",
    "                add = X_linear[:, j[1]]*X_linear[:, j[2]]\n",
    "\n",
    "            X_new2 = np.column_stack((X_new, add))\n",
    "            X_new = X_new2\n",
    "\n",
    "    \n",
    "    return X_new"
   ]
  },
  {
   "cell_type": "code",
   "execution_count": null,
   "metadata": {
    "collapsed": true
   },
   "outputs": [],
   "source": [
    "start = time.time()\n",
    "\n",
    "\n",
    "# linear_terms = experimental_df.columns.values.tolist()[1:]\n",
    "\n",
    "\n",
    "\n",
    "def fit_model(experimental_file, response_file, response):\n",
    "    \n",
    "\n",
    "    total_subset = []\n",
    "    \n",
    "    y, X_linear, linear_terms, experimental_df, response_df = import_data(experimental_file, response_file, response)\n",
    "    y1 = np.array(y)\n",
    "    lin_terms = []\n",
    "    AIC_prev = 1000\n",
    "    av_score_prev = 0\n",
    "\n",
    "    for i in range(len(linear_terms)):\n",
    "        term = linear_terms[i]\n",
    "        key = i\n",
    "        lin_terms.append([term, i])\n",
    "\n",
    "    cnt = 0\n",
    "    for i in range(len(lin_terms)):\n",
    "        for j in combinations(lin_terms, i+1):\n",
    "            linear_terms = list(j)\n",
    "\n",
    "\n",
    "            model = [a for a in linear_terms]\n",
    "            cnt+=1\n",
    "\n",
    "            X = X_gen(model, X_linear)\n",
    "\n",
    "            model_fit = sm.OLS(y, X)\n",
    "            results = model_fit.fit()\n",
    "            AIC_cur = st.eval_measures.aicc(results.llf, results.nobs, results.df_model)\n",
    "            AICc = AIC_cur\n",
    "\n",
    "            if len(model) == 1:\n",
    "                \n",
    "                X1 = X.reshape(len(X), 1)\n",
    "                model_obj = LinearRegression(fit_intercept=False)\n",
    "                my_cv = ShuffleSplit(n_splits=3, test_size=0.333, random_state=0)\n",
    "\n",
    "                score = cross_val_score(model_obj, X1, y1, cv=my_cv)\n",
    "                av_score = sum(score)/len(score)\n",
    "            \n",
    "            else:\n",
    "            \n",
    "                model_obj = LinearRegression(fit_intercept=False)\n",
    "                my_cv = ShuffleSplit(n_splits=3, test_size=0.333, random_state=0)\n",
    "\n",
    "                score = cross_val_score(model_obj, X, y1, cv=my_cv)\n",
    "                av_score = sum(score)/len(score)\n",
    "            \n",
    "            model_name = '--'\n",
    "            for i in model:\n",
    "                \n",
    "                model_name += i[0] + \"--\"\n",
    "\n",
    "            dictionary = {'AIC': results.aic,'AICc': AICc, 'BIC': results.bic, 'Cond_No': results.condition_number, 'Model': model_name,\n",
    "                          'r2': results.rsquared, 'No_terms': len(model), 'Kfold': av_score}\n",
    "            total_subset.append(dictionary)\n",
    "            \n",
    "                    \n",
    "            if AIC_cur < AIC_prev:\n",
    "\n",
    "                AIC_prev = AIC_cur\n",
    "                final_model = [model, results, AIC_cur, results.aic]\n",
    "                \n",
    "            if av_score_prev < av_score:\n",
    "\n",
    "                av_score_prev= av_score\n",
    "                final_model_kfold = [model, results, av_score]                \n",
    "    \n",
    "\n",
    "\n",
    "\n",
    "            poss_terms = []\n",
    "            for i in range(len(linear_terms)):\n",
    "                for j in range(len(linear_terms)): \n",
    "                    if i < j:\n",
    "                        poss_terms.append([linear_terms[i][0] + '*' + linear_terms[j][0],  linear_terms[i][1], linear_terms[j][1]])\n",
    "\n",
    "\n",
    "\n",
    "            for m in range(1, len(poss_terms) + 1):\n",
    "                for k in combinations(poss_terms, m):\n",
    "\n",
    "                    model = [a for a in linear_terms]\n",
    "                    for i in range(m):\n",
    "                        model.append(k[i])\n",
    "\n",
    "                    cnt +=1\n",
    "                    X = X_gen(model, X_linear)\n",
    "\n",
    "                    model_fit = sm.OLS(y, X)\n",
    "                    results = model_fit.fit()\n",
    "                    AIC_cur = st.eval_measures.aicc(results.llf, results.nobs, results.df_model)\n",
    "                    AICc = AIC_cur\n",
    "                    \n",
    "                    model_obj = LinearRegression(fit_intercept=False)\n",
    "                    my_cv = ShuffleSplit(n_splits=3, test_size=0.333, random_state=0)\n",
    "                    \n",
    "                    score = cross_val_score(model_obj, X, y1, cv=my_cv)\n",
    "                    av_score = sum(score)/len(score)\n",
    "                    \n",
    "                    model_name = '--'\n",
    "                    for i in model:\n",
    "\n",
    "                        model_name += i[0] + \"--\"\n",
    "                    \n",
    "                    dictionary = {'AIC': results.aic,'AICc': AICc, 'BIC': results.bic, 'Cond_No': results.condition_number, 'Model': model_name,\n",
    "                                  'r2': results.rsquared, 'No_terms': len(model), 'Kfold': sum(score)/len(score)}\n",
    "                    \n",
    "                    total_subset.append(dictionary)\n",
    "\n",
    "\n",
    "                    if AIC_cur < AIC_prev:\n",
    "                        \n",
    "                        AIC_prev = AIC_cur\n",
    "                        final_model = [model, results, AIC_cur, results.aic]\n",
    "                \n",
    "                    if av_score_prev < av_score:\n",
    "\n",
    "                        av_score_prev= av_score\n",
    "                        final_model_kfold = [model, results, av_score]                \n",
    "    \n",
    "\n",
    "\n",
    "\n",
    "    return final_model, total_subset, final_model_kfold\n"
   ]
  },
  {
   "cell_type": "code",
   "execution_count": null,
   "metadata": {},
   "outputs": [],
   "source": [
    "experimental_file = 'experimental.csv'\n",
    "response_file = 'Response.csv'\n",
    "\n",
    "\n",
    "test1 = 'rheomix final deg time min'\n",
    "test2 = 'rheomix stability time min'\n",
    "response = test1\n",
    "\n",
    "\n",
    "\n",
    "final_model, total_subset, final_model_kfold = fit_model(experimental_file, response_file, response)"
   ]
  },
  {
   "cell_type": "code",
   "execution_count": null,
   "metadata": {
    "collapsed": true
   },
   "outputs": [],
   "source": [
    "df = pd.DataFrame(total_subset)\n",
    "df.to_csv(\"NoVIF_Total_model_subset_\"  + response + \".csv\")\n"
   ]
  },
  {
   "cell_type": "code",
   "execution_count": null,
   "metadata": {
    "collapsed": true
   },
   "outputs": [],
   "source": [
    "final_model, final_model[1].summary(), final_model_kfold, final_model_kfold[1].summary()"
   ]
  },
  {
   "cell_type": "code",
   "execution_count": null,
   "metadata": {
    "collapsed": true
   },
   "outputs": [],
   "source": [
    "# plt.plot(CN_hist, AIC_hist, 'r*')\n",
    "# plt.axis([0, 2000, 12, 20])\n",
    "# plt.xlabel('CN')\n",
    "# plt.ylabel('AIC')\n",
    "# plt.show()"
   ]
  },
  {
   "cell_type": "code",
   "execution_count": null,
   "metadata": {
    "collapsed": true
   },
   "outputs": [],
   "source": [
    "# plt.plot(VIF_max_hist, AIC_hist1, 'r*')\n",
    "# plt.show()"
   ]
  },
  {
   "cell_type": "code",
   "execution_count": null,
   "metadata": {
    "collapsed": true
   },
   "outputs": [],
   "source": [
    "# plt.scatter(CN_hist1, AIC_hist1, c = VIF_max_hist, vmin=0, vmax=50)\n",
    "# # plt.axis([0, 1000, 12, 20])\n",
    "# plt.xlabel('CN')\n",
    "# plt.ylabel('AIC')\n",
    "# plt.colorbar()\n",
    "# # plt.set_label('VIF')\n",
    "# plt.show()"
   ]
  },
  {
   "cell_type": "code",
   "execution_count": null,
   "metadata": {
    "collapsed": true
   },
   "outputs": [],
   "source": [
    "# from mpl_toolkits.mplot3d import Axes3D\n",
    "\n",
    "# fig = plt.figure()\n",
    "# ax = Axes3D(fig)\n",
    "\n",
    "# ax.scatter(CN_hist1,VIF_max_hist, AIC_hist1)\n",
    "# plt.xlabel('CN')\n",
    "# plt.ylabel('VIF')\n",
    "# ax.set_zlabel('AIC')\n",
    "# # plt.axis([0, 1000, 12, 18])\n",
    "# # plt.colorbar()\n",
    "# plt.show()"
   ]
  },
  {
   "cell_type": "code",
   "execution_count": null,
   "metadata": {
    "collapsed": true
   },
   "outputs": [],
   "source": [
    "# len(model_subset)"
   ]
  },
  {
   "cell_type": "code",
   "execution_count": null,
   "metadata": {
    "collapsed": true
   },
   "outputs": [],
   "source": [
    "# for i in model_subset:\n",
    "#     if i[2] < 550 and i[2] > 450:\n",
    "#         a = []\n",
    "#         for j in i[0]:\n",
    "#             a.append(j[0])\n",
    "#         print('----model:', a, 'AIC', round(i[1], 3), 'CN:', round(i[2], 3), 'vif_max:', round(i[3], 3), 'R2:', round(i[4], 3), '----'\n",
    "#              )\n",
    "        "
   ]
  },
  {
   "cell_type": "code",
   "execution_count": null,
   "metadata": {
    "collapsed": true
   },
   "outputs": [],
   "source": []
  },
  {
   "cell_type": "markdown",
   "metadata": {
    "collapsed": true
   },
   "source": [
    "# "
   ]
  }
 ],
 "metadata": {
  "kernelspec": {
   "display_name": "Python 3",
   "language": "python",
   "name": "python3"
  },
  "language_info": {
   "codemirror_mode": {
    "name": "ipython",
    "version": 3
   },
   "file_extension": ".py",
   "mimetype": "text/x-python",
   "name": "python",
   "nbconvert_exporter": "python",
   "pygments_lexer": "ipython3",
   "version": "3.6.0"
  }
 },
 "nbformat": 4,
 "nbformat_minor": 2
}
