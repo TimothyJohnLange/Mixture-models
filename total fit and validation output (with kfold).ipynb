{
 "cells": [
  {
   "cell_type": "code",
   "execution_count": 1,
   "metadata": {
    "collapsed": true
   },
   "outputs": [],
   "source": [
    "import pandas as pd\n",
    "from sklearn.linear_model import LinearRegression\n",
    "from sklearn.model_selection import cross_val_score, ShuffleSplit,train_test_split\n",
    "from sklearn.metrics import mean_squared_error as mse\n",
    "import numpy as np\n",
    "from itertools import combinations\n",
    "import statsmodels.api as sm\n",
    "import statsmodels.tools as st\n",
    "from statsmodels.stats.outliers_influence import variance_inflation_factor\n",
    "import time\n",
    "import matplotlib.pyplot as plt\n",
    "%matplotlib inline"
   ]
  },
  {
   "cell_type": "code",
   "execution_count": 2,
   "metadata": {
    "collapsed": true
   },
   "outputs": [],
   "source": [
    "def import_data(experimental_file, response_file, response, random_state1):\n",
    "    'imports data'\n",
    "    'experimental_file = experimental design csv filename i.e experimental.csv'\n",
    "    'response_file = results csv filename i.e Response.csv'\n",
    "    'response = reponse name: i.e rheomix final deg time min or rheomix stability time min'\n",
    "    \n",
    "    experimental_df = pd.read_csv(experimental_file)\n",
    "    response_df = pd.read_csv(response_file)\n",
    "    \n",
    "    X = experimental_df[experimental_df.columns.values.tolist()[1:]].values\n",
    "    y = response_df[response].values\n",
    "    max1 = max(y)\n",
    "    min1 = min(y)\n",
    "\n",
    "    y_norm = [2*((i-min1)/(max1-min1)) - 1 for i in y]\n",
    "\n",
    "    linear_terms = experimental_df.columns.values.tolist()[1:]\n",
    "    x_train, x_test, y_train, y_test = train_test_split(X, y_norm, test_size=5/46, random_state= random_state1)\n",
    "    \n",
    "    return x_train, x_test, y_train, y_test, linear_terms, experimental_df, response_df\n",
    "    "
   ]
  },
  {
   "cell_type": "code",
   "execution_count": 3,
   "metadata": {
    "collapsed": true
   },
   "outputs": [],
   "source": [
    "def X_gen(model, X_linear):\n",
    "\n",
    "    for i, j in enumerate(model):\n",
    "        \n",
    "        if i == 0 and len(j) == 2: \n",
    "            X_new = X_linear[:, model[0][1]]\n",
    "        \n",
    "        else:\n",
    "            \n",
    "            if len(j) == 2:\n",
    "                add = X_linear[:, j[1]]\n",
    "\n",
    "            if len(j) == 3:\n",
    "                add = X_linear[:, j[1]]*X_linear[:, j[2]]\n",
    "\n",
    "            X_new2 = np.column_stack((X_new, add))\n",
    "            X_new = X_new2\n",
    "\n",
    "    \n",
    "    return X_new"
   ]
  },
  {
   "cell_type": "code",
   "execution_count": 4,
   "metadata": {},
   "outputs": [],
   "source": [
    "start = time.time()\n",
    "\n",
    "\n",
    "# linear_terms = experimental_df.columns.values.tolist()[1:]\n",
    "\n",
    "\n",
    "\n",
    "def fit_model(experimental_file, response_file, response, random_state1):\n",
    "    \n",
    "\n",
    "    total_subset = []\n",
    "\n",
    "    x_train, x_test, y_train, y_test, linear_terms, experimental_df, response_df = import_data(experimental_file, response_file, response, random_state1)\n",
    "    y = y_train\n",
    "    X_linear = x_train\n",
    "    y1 = np.array(y)\n",
    "    lin_terms = []\n",
    "    AIC_prev = 1000\n",
    "    AICc_prev = 1000\n",
    "    BIC_prev = 1000\n",
    "    av_score_prev = 0\n",
    "\n",
    "\n",
    "    for i in range(len(linear_terms)):\n",
    "        term = linear_terms[i]\n",
    "        key = i\n",
    "        lin_terms.append([term, i])\n",
    "\n",
    "    cnt = 0\n",
    "    for i in range(len(lin_terms)):\n",
    "        for j in combinations(lin_terms, i+1):\n",
    "            linear_terms = list(j)\n",
    "\n",
    "\n",
    "            model = [a for a in linear_terms]\n",
    "            cnt+=1\n",
    "\n",
    "            X = X_gen(model, X_linear)\n",
    "\n",
    "            model_fit = sm.OLS(y, X)\n",
    "            results = model_fit.fit()\n",
    "            AICc_cur = st.eval_measures.aicc(results.llf, results.nobs, results.df_model)\n",
    "            AIC_cur = results.aic\n",
    "            BIC_cur = results.bic\n",
    "            \n",
    "            if AICc_cur < 40:\n",
    "                if len(model) == 1:\n",
    "\n",
    "                    X1 = X.reshape(len(X), 1)\n",
    "                    model_obj = LinearRegression(fit_intercept=False)\n",
    "                    my_cv = ShuffleSplit(n_splits=10, test_size=0.333, random_state=0)\n",
    "\n",
    "                    score = cross_val_score(model_obj, X1, y1, cv=my_cv)\n",
    "                    av_score = sum(score)/len(score)\n",
    "\n",
    "                else:\n",
    "\n",
    "                    model_obj = LinearRegression(fit_intercept=False)\n",
    "                    my_cv = ShuffleSplit(n_splits=10, test_size=0.333, random_state=0)\n",
    "\n",
    "                    score = cross_val_score(model_obj, X, y1, cv=my_cv)\n",
    "                    av_score = sum(score)/len(score)\n",
    "\n",
    "            else:\n",
    "                av_score = -1\n",
    "            \n",
    "            if AIC_cur < AIC_prev:\n",
    "\n",
    "                AIC_prev = AIC_cur\n",
    "                final_model_AIC = [model, results, AIC_cur]\n",
    "                \n",
    "            if AICc_cur < AICc_prev:\n",
    "\n",
    "                AICc_prev = AICc_cur\n",
    "                final_model_AICc = [model, results, AICc_cur]\n",
    "                \n",
    "            if BIC_cur < BIC_prev:\n",
    "\n",
    "                BIC_prev = BIC_cur\n",
    "                final_model_BIC = [model, results, BIC_cur]\n",
    "                \n",
    "            if av_score_prev < av_score:\n",
    "                \n",
    "                av_score_prev= av_score\n",
    "                final_model_kfold = [model, results, av_score]\n",
    "    \n",
    "\n",
    "\n",
    "\n",
    "            poss_terms = []\n",
    "            for i in range(len(linear_terms)):\n",
    "                for j in range(len(linear_terms)): \n",
    "                    if i < j:\n",
    "                        poss_terms.append([linear_terms[i][0] + '*' + linear_terms[j][0],  linear_terms[i][1], linear_terms[j][1]])\n",
    "\n",
    "\n",
    "\n",
    "            for m in range(1, len(poss_terms) + 1):\n",
    "                for k in combinations(poss_terms, m):\n",
    "\n",
    "                    model = [a for a in linear_terms]\n",
    "                    for i in range(m):\n",
    "                        model.append(k[i])\n",
    "\n",
    "                    cnt +=1\n",
    "                    \n",
    "                    if len(model) < 12:\n",
    "                        \n",
    "                        X = X_gen(model, X_linear)\n",
    "\n",
    "                        model_fit = sm.OLS(y, X)\n",
    "                        results = model_fit.fit()\n",
    "                        AICc_cur = st.eval_measures.aicc(results.llf, results.nobs, results.df_model)\n",
    "                        AIC_cur = results.aic\n",
    "                        BIC_cur = results.bic\n",
    "\n",
    "                        if AICc_cur < 40:\n",
    "                            \n",
    "                            model_obj = LinearRegression(fit_intercept=False)\n",
    "                            my_cv = ShuffleSplit(n_splits=10, test_size=0.333, random_state=0)\n",
    "\n",
    "                            score = cross_val_score(model_obj, X, y1, cv=my_cv)\n",
    "                            av_score = sum(score)/len(score)\n",
    "\n",
    "                        else:\n",
    "                            av_score = -1\n",
    "\n",
    "\n",
    "\n",
    "                        if AIC_cur < AIC_prev:\n",
    "\n",
    "                            AIC_prev = AIC_cur\n",
    "                            final_model_AIC = [model, results, AIC_cur]\n",
    "\n",
    "                        if AICc_cur < AICc_prev:\n",
    "\n",
    "                            AICc_prev = AICc_cur\n",
    "                            final_model_AICc = [model, results, AICc_cur]\n",
    "\n",
    "                        if BIC_cur < BIC_prev:\n",
    "\n",
    "                            BIC_prev = BIC_cur\n",
    "                            final_model_BIC = [model, results, BIC_cur]\n",
    "\n",
    "                        if av_score_prev < av_score:\n",
    "                            \n",
    "                            av_score_prev= av_score\n",
    "                            final_model_kfold = [model, results, av_score]\n",
    "                            \n",
    "\n",
    "    #AIC:\n",
    "    model = final_model_AIC[0]\n",
    "    X = X_gen(model, X_linear)\n",
    "    regr = LinearRegression(fit_intercept=False)\n",
    "    regr.fit(X, y_train)\n",
    "    X_test = X_gen(model, x_test)\n",
    "    y_pred = regr.predict(X_test)\n",
    "    AIC_mse = mse(y_test, y_pred)\n",
    "    final_model_AIC.append(AIC_mse)\n",
    "    \n",
    "    #AICc:\n",
    "    model = final_model_AICc[0]\n",
    "    X = X_gen(model, X_linear)\n",
    "    regr = LinearRegression(fit_intercept=False)\n",
    "    regr.fit(X, y_train)\n",
    "    X_test = X_gen(model, x_test)\n",
    "    y_pred = regr.predict(X_test)\n",
    "    AICc_mse = mse(y_test, y_pred)\n",
    "    final_model_AICc.append(AICc_mse)\n",
    "    \n",
    "    #BIC:\n",
    "    model = final_model_BIC[0]\n",
    "    X = X_gen(model, X_linear)\n",
    "    regr = LinearRegression(fit_intercept=False)\n",
    "    regr.fit(X, y_train)\n",
    "    X_test = X_gen(model, x_test)\n",
    "    y_pred = regr.predict(X_test)\n",
    "    BIC_mse = mse(y_test, y_pred)\n",
    "    final_model_BIC.append(BIC_mse)\n",
    "    \n",
    "    \n",
    "    #kfold:\n",
    "    model = final_model_kfold[0]\n",
    "    X = X_gen(model, X_linear)\n",
    "    regr = LinearRegression(fit_intercept=False)\n",
    "    regr.fit(X, y_train)\n",
    "    X_test = X_gen(model, x_test)\n",
    "    y_pred = regr.predict(X_test)\n",
    "    kfold_mse = mse(y_test, y_pred)\n",
    "    final_model_kfold.append(kfold_mse)\n",
    "    \n",
    "    \n",
    "    \n",
    "    \n",
    "    return final_model_AIC, final_model_AICc, final_model_BIC, final_model_kfold\n"
   ]
  },
  {
   "cell_type": "code",
   "execution_count": 5,
   "metadata": {},
   "outputs": [],
   "source": [
    "experimental_file = 'experimental.csv'\n",
    "response_file = 'Response.csv'\n",
    "\n",
    "\n",
    "test1 = 'rheomix final deg time min'\n",
    "test2 = 'rheomix stability time min'\n",
    "response = test1\n",
    "\n",
    "AICc = []\n",
    "BIC = []\n",
    "kfold = []\n",
    "for i in range(5):\n",
    "    random_state1 = i\n",
    "    final_model_AIC, final_model_AICc, final_model_BIC, final_model_kfold = fit_model(experimental_file, response_file, response, random_state1)\n",
    "    AICc.append(final_model_AICc)\n",
    "    BIC.append(final_model_BIC)\n",
    "    kfold.append(final_model_kfold)\n"
   ]
  },
  {
   "cell_type": "code",
   "execution_count": 6,
   "metadata": {
    "collapsed": true
   },
   "outputs": [],
   "source": [
    "tests = []\n",
    "for i in range(len(AICc)):\n",
    "    a = [AICc[i][3], BIC[i][3], kfold[i][3]]   \n",
    "    tests.append(a)"
   ]
  },
  {
   "cell_type": "code",
   "execution_count": 18,
   "metadata": {},
   "outputs": [
    {
     "data": {
      "image/png": "[encoded data removed]",
      "text/plain": [
       "<matplotlib.figure.Figure at 0x91a20c3a90>"
      ]
     },
     "metadata": {},
     "output_type": "display_data"
    }
   ],
   "source": [
    "x_label = ['','AIC$_{c}$', 'BIC', 'k-fold']\n",
    "x = [1,2,3]\n",
    "fig, axs = plt.subplots(5, figsize=(10,7))\n",
    "ax1 = plt.subplot2grid(shape=(2,6), loc=(0,0), colspan=2)\n",
    "ax2 = plt.subplot2grid((2,6), (0,2), colspan=2)\n",
    "ax3 = plt.subplot2grid((2,6), (0,4), colspan=2)\n",
    "ax4 = plt.subplot2grid((2,6), (1,1), colspan=2)\n",
    "ax5 = plt.subplot2grid((2,6), (1,3), colspan=2)\n",
    "ax1.bar(x, tests[0])\n",
    "ax1.set_xticklabels(x_label)\n",
    "ax1.set_ylim(top = 0.15)\n",
    "ax1.set_ylabel('MSE', fontsize = 13)\n",
    "ax2.bar(x, tests[1])\n",
    "ax2.set_xticklabels(x_label)\n",
    "ax2.set_ylim(top = 0.63)\n",
    "ax2.set_ylabel('MSE', fontsize = 13)\n",
    "ax3.bar(x, tests[2])\n",
    "ax3.set_xticklabels(x_label)\n",
    "ax3.set_ylim(top = 0.6)\n",
    "ax3.set_ylabel('MSE', fontsize = 13)\n",
    "ax4.bar(x, tests[3])\n",
    "ax4.set_xticklabels(x_label)\n",
    "ax4.set_ylim(top = 0.4)\n",
    "ax4.set_ylabel('MSE', fontsize = 13)\n",
    "ax5.bar(x, tests[4])\n",
    "ax5.set_xticklabels(x_label)\n",
    "ax5.set_ylim(top = 0.11)\n",
    "ax5.set_ylabel('MSE', fontsize = 13)\n",
    "fig.tight_layout()\n",
    "fig.savefig('test_err_bar.png')"
   ]
  },
  {
   "cell_type": "code",
   "execution_count": 8,
   "metadata": {
    "collapsed": true
   },
   "outputs": [],
   "source": [
    "# df = pd.DataFrame(total_subset)\n",
    "# df.to_csv(\"(K=10)_NoVIF_Total_model_subset_\"  + response + \".csv\")\n"
   ]
  },
  {
   "cell_type": "code",
   "execution_count": 9,
   "metadata": {
    "collapsed": true
   },
   "outputs": [],
   "source": [
    "# final_model, final_model[1].summary(), final_model_kfold, final_model_kfold[1].summary()"
   ]
  },
  {
   "cell_type": "code",
   "execution_count": 10,
   "metadata": {
    "collapsed": true
   },
   "outputs": [],
   "source": [
    "# plt.plot(CN_hist, AIC_hist, 'r*')\n",
    "# plt.axis([0, 2000, 12, 20])\n",
    "# plt.xlabel('CN')\n",
    "# plt.ylabel('AIC')\n",
    "# plt.show()"
   ]
  },
  {
   "cell_type": "code",
   "execution_count": 11,
   "metadata": {
    "collapsed": true
   },
   "outputs": [],
   "source": [
    "# plt.plot(VIF_max_hist, AIC_hist1, 'r*')\n",
    "# plt.show()"
   ]
  },
  {
   "cell_type": "code",
   "execution_count": 12,
   "metadata": {
    "collapsed": true
   },
   "outputs": [],
   "source": [
    "# plt.scatter(CN_hist1, AIC_hist1, c = VIF_max_hist, vmin=0, vmax=50)\n",
    "# # plt.axis([0, 1000, 12, 20])\n",
    "# plt.xlabel('CN')\n",
    "# plt.ylabel('AIC')\n",
    "# plt.colorbar()\n",
    "# # plt.set_label('VIF')\n",
    "# plt.show()"
   ]
  },
  {
   "cell_type": "code",
   "execution_count": 13,
   "metadata": {
    "collapsed": true
   },
   "outputs": [],
   "source": [
    "# from mpl_toolkits.mplot3d import Axes3D\n",
    "\n",
    "# fig = plt.figure()\n",
    "# ax = Axes3D(fig)\n",
    "\n",
    "# ax.scatter(CN_hist1,VIF_max_hist, AIC_hist1)\n",
    "# plt.xlabel('CN')\n",
    "# plt.ylabel('VIF')\n",
    "# ax.set_zlabel('AIC')\n",
    "# # plt.axis([0, 1000, 12, 18])\n",
    "# # plt.colorbar()\n",
    "# plt.show()"
   ]
  },
  {
   "cell_type": "code",
   "execution_count": 14,
   "metadata": {
    "collapsed": true
   },
   "outputs": [],
   "source": [
    "# len(model_subset)"
   ]
  },
  {
   "cell_type": "code",
   "execution_count": 15,
   "metadata": {
    "collapsed": true
   },
   "outputs": [],
   "source": [
    "# for i in model_subset:\n",
    "#     if i[2] < 550 and i[2] > 450:\n",
    "#         a = []\n",
    "#         for j in i[0]:\n",
    "#             a.append(j[0])\n",
    "#         print('----model:', a, 'AIC', round(i[1], 3), 'CN:', round(i[2], 3), 'vif_max:', round(i[3], 3), 'R2:', round(i[4], 3), '----'\n",
    "#              )\n",
    "        "
   ]
  },
  {
   "cell_type": "code",
   "execution_count": null,
   "metadata": {
    "collapsed": true
   },
   "outputs": [],
   "source": []
  },
  {
   "cell_type": "markdown",
   "metadata": {
    "collapsed": true
   },
   "source": [
    "## "
   ]
  }
 ],
 "metadata": {
  "kernelspec": {
   "display_name": "Python 3",
   "language": "python",
   "name": "python3"
  },
  "language_info": {
   "codemirror_mode": {
    "name": "ipython",
    "version": 3
   },
   "file_extension": ".py",
   "mimetype": "text/x-python",
   "name": "python",
   "nbconvert_exporter": "python",
   "pygments_lexer": "ipython3",
   "version": "3.6.0"
  }
 },
 "nbformat": 4,
 "nbformat_minor": 2
}
