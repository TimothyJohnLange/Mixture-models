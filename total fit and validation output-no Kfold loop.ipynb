{
 "cells": [
  {
   "cell_type": "code",
   "execution_count": 14,
   "metadata": {
    "collapsed": true
   },
   "outputs": [],
   "source": [
    "import pandas as pd\n",
    "from sklearn.linear_model import LinearRegression\n",
    "from sklearn.model_selection import cross_val_score, ShuffleSplit,train_test_split\n",
    "from sklearn.metrics import mean_squared_error as mse\n",
    "import numpy as np\n",
    "from itertools import combinations\n",
    "import statsmodels.api as sm\n",
    "import statsmodels.tools as st\n",
    "from statsmodels.stats.outliers_influence import variance_inflation_factor\n",
    "import time\n",
    "import matplotlib.pyplot as plt\n",
    "%matplotlib inline"
   ]
  },
  {
   "cell_type": "code",
   "execution_count": 2,
   "metadata": {
    "collapsed": true
   },
   "outputs": [],
   "source": [
    "def import_data(experimental_file, response_file, response):\n",
    "    'imports data'\n",
    "    'experimental_file = experimental design csv filename i.e experimental.csv'\n",
    "    'response_file = results csv filename i.e Response.csv'\n",
    "    'response = reponse name: i.e rheomix final deg time min or rheomix stability time min'\n",
    "    \n",
    "    experimental_df = pd.read_csv(experimental_file)\n",
    "    response_df = pd.read_csv(response_file)\n",
    "    \n",
    "    X = experimental_df[experimental_df.columns.values.tolist()[1:]].values\n",
    "    y = response_df[response].values\n",
    "    max1 = max(y)\n",
    "    min1 = min(y)\n",
    "\n",
    "    y_norm = [2*((i-min1)/(max1-min1)) - 1 for i in y]\n",
    "\n",
    "    linear_terms = experimental_df.columns.values.tolist()[1:]\n",
    "    x_train, x_test, y_train, y_test = train_test_split(X, y_norm, test_size=9/46, random_state=0)\n",
    "    \n",
    "    return x_train, x_test, y_train, y_test, linear_terms, experimental_df, response_df, X, y_norm\n",
    "    "
   ]
  },
  {
   "cell_type": "code",
   "execution_count": 3,
   "metadata": {
    "collapsed": true
   },
   "outputs": [],
   "source": [
    "def X_gen(model, X_linear):\n",
    "\n",
    "    for i, j in enumerate(model):\n",
    "        \n",
    "        if i == 0 and len(j) == 2: \n",
    "            X_new = X_linear[:, model[0][1]]\n",
    "        \n",
    "        else:\n",
    "            \n",
    "            if len(j) == 2:\n",
    "                add = X_linear[:, j[1]]\n",
    "\n",
    "            if len(j) == 3:\n",
    "                add = X_linear[:, j[1]]*X_linear[:, j[2]]\n",
    "\n",
    "            X_new2 = np.column_stack((X_new, add))\n",
    "            X_new = X_new2\n",
    "\n",
    "    \n",
    "    return X_new"
   ]
  },
  {
   "cell_type": "code",
   "execution_count": 4,
   "metadata": {
    "collapsed": true
   },
   "outputs": [],
   "source": [
    "start = time.time()\n",
    "\n",
    "\n",
    "# linear_terms = experimental_df.columns.values.tolist()[1:]\n",
    "\n",
    "\n",
    "\n",
    "def fit_model(experimental_file, response_file, response):\n",
    "    \n",
    "\n",
    "    total_subset = []\n",
    "\n",
    "    x_train, x_test, y_train, y_test, linear_terms, experimental_df, response_df, X_total, y_norm_total = import_data(experimental_file, response_file, response)\n",
    "    y = y_train\n",
    "    X_linear = x_train\n",
    "    y1 = np.array(y)\n",
    "    lin_terms = []\n",
    "    AIC_prev = 1000\n",
    "    AICc_prev = 1000\n",
    "    BIC_prev = 1000\n",
    "\n",
    "\n",
    "    for i in range(len(linear_terms)):\n",
    "        term = linear_terms[i]\n",
    "        key = i\n",
    "        lin_terms.append([term, i])\n",
    "\n",
    "    cnt = 0\n",
    "    for i in range(len(lin_terms)):\n",
    "        for j in combinations(lin_terms, i+1):\n",
    "            linear_terms = list(j)\n",
    "\n",
    "\n",
    "            model = [a for a in linear_terms]\n",
    "            cnt+=1\n",
    "            \n",
    "            X = X_gen(model, X_linear)\n",
    "\n",
    "            model_fit = sm.OLS(y, X)\n",
    "            results = model_fit.fit()\n",
    "            AICc_cur = st.eval_measures.aicc(results.llf, results.nobs, results.df_model)\n",
    "            AIC_cur = results.aic\n",
    "            BIC_cur = results.bic\n",
    "            \n",
    "                    \n",
    "                    \n",
    "            if AIC_cur < AIC_prev:\n",
    "\n",
    "                AIC_prev = AIC_cur\n",
    "                final_model_AIC = [model, results, AIC_cur]\n",
    "                \n",
    "            if AICc_cur < AICc_prev:\n",
    "\n",
    "                AICc_prev = AICc_cur\n",
    "                final_model_AICc = [model, results, AICc_cur]\n",
    "                \n",
    "            if BIC_cur < BIC_prev:\n",
    "\n",
    "                BIC_prev = BIC_cur\n",
    "                final_model_BIC = [model, results, BIC_cur]\n",
    "\n",
    "\n",
    "\n",
    "\n",
    "            poss_terms = []\n",
    "            for i in range(len(linear_terms)):\n",
    "                for j in range(len(linear_terms)): \n",
    "                    if i < j:\n",
    "                        poss_terms.append([linear_terms[i][0] + '*' + linear_terms[j][0],  linear_terms[i][1], linear_terms[j][1]])\n",
    "\n",
    "\n",
    "\n",
    "            for m in range(1, len(poss_terms) + 1):\n",
    "                for k in combinations(poss_terms, m):\n",
    "\n",
    "                    model = [a for a in linear_terms]\n",
    "                    for i in range(m):\n",
    "                        model.append(k[i])\n",
    "                    \n",
    "                    if len(model) < 14:\n",
    "                        \n",
    "                        cnt +=1\n",
    "                        X = X_gen(model, X_linear)\n",
    "\n",
    "                        model_fit = sm.OLS(y, X)\n",
    "                        results = model_fit.fit()\n",
    "                        AICc_cur = st.eval_measures.aicc(results.llf, results.nobs, results.df_model)\n",
    "                        AIC_cur = results.aic\n",
    "                        BIC_cur = results.bic\n",
    "\n",
    "\n",
    "\n",
    "                        if AIC_cur < AIC_prev:\n",
    "\n",
    "                            AIC_prev = AIC_cur\n",
    "                            final_model_AIC = [model, results, AIC_cur]\n",
    "\n",
    "                        if AICc_cur < AICc_prev:\n",
    "\n",
    "                            AICc_prev = AICc_cur\n",
    "                            final_model_AICc = [model, results, AICc_cur]\n",
    "\n",
    "                        if BIC_cur < BIC_prev:\n",
    "\n",
    "                            BIC_prev = BIC_cur\n",
    "                            final_model_BIC = [model, results, BIC_cur]\n",
    "\n",
    "\n",
    "    #AIC:\n",
    "    model = final_model_AIC[0]\n",
    "    X = X_gen(model, X_linear)\n",
    "    regr = LinearRegression(fit_intercept=False)\n",
    "    regr.fit(X, y_train)\n",
    "    X_test = X_gen(model, x_test)\n",
    "    y_pred = regr.predict(X_test)\n",
    "    AIC_mse = mse(y_test, y_pred)\n",
    "    final_model_AIC.append(AIC_mse)\n",
    "    X_t = X_gen(model, X_total)\n",
    "    model_fit = sm.OLS(y_norm_total, X_t)\n",
    "    results = model_fit.fit()\n",
    "    final_model_AIC.append(results.aic)\n",
    "    \n",
    "    model_fit = sm.OLS(y_train, X)\n",
    "    results = model_fit.fit()\n",
    "    final_model_AIC.append(results.aic)\n",
    "    \n",
    "    #AICc:\n",
    "    model = final_model_AICc[0]\n",
    "    X = X_gen(model, X_linear)\n",
    "    regr = LinearRegression(fit_intercept=False)\n",
    "    regr.fit(X, y_train)\n",
    "    X_test = X_gen(model, x_test)\n",
    "    y_pred = regr.predict(X_test)\n",
    "    AICc_mse = mse(y_test, y_pred)\n",
    "    final_model_AICc.append(AICc_mse)\n",
    "    X_t = X_gen(model, X_total)\n",
    "    model_fit = sm.OLS(y_norm_total, X_t)\n",
    "    results = model_fit.fit()\n",
    "    final_model_AICc.append(st.eval_measures.aicc(results.llf, results.nobs, results.df_model))\n",
    "    \n",
    "    #BIC:\n",
    "    model = final_model_BIC[0]\n",
    "    X = X_gen(model, X_linear)\n",
    "    regr = LinearRegression(fit_intercept=False)\n",
    "    regr.fit(X, y_train)\n",
    "    X_test = X_gen(model, x_test)\n",
    "    y_pred = regr.predict(X_test)\n",
    "    BIC_mse = mse(y_test, y_pred)\n",
    "    final_model_BIC.append(BIC_mse)\n",
    "    X_t = X_gen(model, X_total)\n",
    "    model_fit = sm.OLS(y_norm_total, X_t)\n",
    "    results = model_fit.fit()\n",
    "    final_model_BIC.append(results.bic)\n",
    "    \n",
    "    \n",
    "    \n",
    "    return final_model_AIC, final_model_AICc, final_model_BIC\n"
   ]
  },
  {
   "cell_type": "code",
   "execution_count": 5,
   "metadata": {},
   "outputs": [
    {
     "name": "stdout",
     "output_type": "stream",
     "text": [
      "[[['Xpvc', 0], ['Xfiller', 1], ['Xstabiliser', 3], ['Xdinp', 4], ['Xldh', 5], ['Xpvc*Xdinp', 0, 4], ['Xstabiliser*Xldh', 3, 5], ['Xdinp*Xldh', 4, 5]], <statsmodels.regression.linear_model.RegressionResultsWrapper object at 0x000000D36D70D3C8>, 3.8789765234291025, 0.1305039653122414, 14.84886435486753, 3.8789765234291025] [[['Xpvc', 0], ['Xstabiliser', 3], ['Xdinp', 4], ['Xldh', 5], ['Xstabiliser*Xldh', 3, 5], ['Xdinp*Xldh', 4, 5]], <statsmodels.regression.linear_model.RegressionResultsWrapper object at 0x000000D36D70D710>, 6.830522866850689, 0.1287027099825193, 16.665718481774185] [[['Xpvc', 0], ['Xstabiliser', 3], ['Xdinp', 4], ['Xldh', 5], ['Xstabiliser*Xldh', 3, 5], ['Xdinp*Xldh', 4, 5]], <statsmodels.regression.linear_model.RegressionResultsWrapper object at 0x000000D36D70D710>, 13.696030342716035, 0.1287027099825193, 25.483720706862602]\n"
     ]
    }
   ],
   "source": [
    "experimental_file = 'experimental.csv'\n",
    "response_file = 'Response.csv'\n",
    "\n",
    "\n",
    "test1 = 'rheomix final deg time min'\n",
    "test2 = 'rheomix stability time min'\n",
    "response = test1\n",
    "\n",
    "\n",
    "\n",
    "final_model_AIC, final_model_AICc, final_model_BIC = fit_model(experimental_file, response_file, response)\n",
    "print(final_model_AIC, final_model_AICc, final_model_BIC)"
   ]
  },
  {
   "cell_type": "code",
   "execution_count": 57,
   "metadata": {
    "collapsed": true
   },
   "outputs": [],
   "source": [
    "x_label = ['','AIC$_{c}$', 'BIC', 'k-fold']\n",
    "x = [1,2,3]\n",
    "y1 = [1,2,3]\n",
    "y2 = [1,2,4]\n",
    "y3 = [3,2,3]\n",
    "y4 = [1,4,3]\n",
    "y5 = [1,2,1]"
   ]
  },
  {
   "cell_type": "code",
   "execution_count": 58,
   "metadata": {},
   "outputs": [
    {
     "data": {
      "image/png": "[encoded data removed]",
      "text/plain": [
       "<matplotlib.figure.Figure at 0xd37050b748>"
      ]
     },
     "metadata": {},
     "output_type": "display_data"
    }
   ],
   "source": [
    "fig, axs = plt.subplots(5)\n",
    "ax1 = plt.subplot2grid(shape=(2,6), loc=(0,0), colspan=2)\n",
    "ax2 = plt.subplot2grid((2,6), (0,2), colspan=2)\n",
    "ax3 = plt.subplot2grid((2,6), (0,4), colspan=2)\n",
    "ax4 = plt.subplot2grid((2,6), (1,1), colspan=2)\n",
    "ax5 = plt.subplot2grid((2,6), (1,3), colspan=2)\n",
    "ax1.bar(x, y1)\n",
    "ax1.set_xticklabels(x_label)\n",
    "ax2.bar(x, y2)\n",
    "ax2.set_xticklabels(x_label)\n",
    "ax3.bar(x, y3)\n",
    "ax3.set_xticklabels(x_label)\n",
    "ax4.bar(x, y4)\n",
    "ax4.set_xticklabels(x_label)\n",
    "ax5.bar(x, y5)\n",
    "ax5.set_xticklabels(x_label)\n",
    "fig.tight_layout()"
   ]
  },
  {
   "cell_type": "code",
   "execution_count": 6,
   "metadata": {
    "collapsed": true
   },
   "outputs": [],
   "source": [
    "# df = pd.DataFrame(total_subset)\n",
    "# df.to_csv(\"(K=10)_NoVIF_Total_model_subset_\"  + response + \".csv\")\n"
   ]
  },
  {
   "cell_type": "code",
   "execution_count": 7,
   "metadata": {
    "collapsed": true
   },
   "outputs": [],
   "source": [
    "# final_model, final_model[1].summary(), final_model_kfold, final_model_kfold[1].summary()"
   ]
  },
  {
   "cell_type": "code",
   "execution_count": 8,
   "metadata": {
    "collapsed": true
   },
   "outputs": [],
   "source": [
    "# plt.plot(CN_hist, AIC_hist, 'r*')\n",
    "# plt.axis([0, 2000, 12, 20])\n",
    "# plt.xlabel('CN')\n",
    "# plt.ylabel('AIC')\n",
    "# plt.show()"
   ]
  },
  {
   "cell_type": "code",
   "execution_count": 9,
   "metadata": {
    "collapsed": true
   },
   "outputs": [],
   "source": [
    "# plt.plot(VIF_max_hist, AIC_hist1, 'r*')\n",
    "# plt.show()"
   ]
  },
  {
   "cell_type": "code",
   "execution_count": 10,
   "metadata": {
    "collapsed": true
   },
   "outputs": [],
   "source": [
    "# plt.scatter(CN_hist1, AIC_hist1, c = VIF_max_hist, vmin=0, vmax=50)\n",
    "# # plt.axis([0, 1000, 12, 20])\n",
    "# plt.xlabel('CN')\n",
    "# plt.ylabel('AIC')\n",
    "# plt.colorbar()\n",
    "# # plt.set_label('VIF')\n",
    "# plt.show()"
   ]
  },
  {
   "cell_type": "code",
   "execution_count": 11,
   "metadata": {
    "collapsed": true
   },
   "outputs": [],
   "source": [
    "# from mpl_toolkits.mplot3d import Axes3D\n",
    "\n",
    "# fig = plt.figure()\n",
    "# ax = Axes3D(fig)\n",
    "\n",
    "# ax.scatter(CN_hist1,VIF_max_hist, AIC_hist1)\n",
    "# plt.xlabel('CN')\n",
    "# plt.ylabel('VIF')\n",
    "# ax.set_zlabel('AIC')\n",
    "# # plt.axis([0, 1000, 12, 18])\n",
    "# # plt.colorbar()\n",
    "# plt.show()"
   ]
  },
  {
   "cell_type": "code",
   "execution_count": 12,
   "metadata": {
    "collapsed": true
   },
   "outputs": [],
   "source": [
    "# len(model_subset)"
   ]
  },
  {
   "cell_type": "code",
   "execution_count": 13,
   "metadata": {
    "collapsed": true
   },
   "outputs": [],
   "source": [
    "# for i in model_subset:\n",
    "#     if i[2] < 550 and i[2] > 450:\n",
    "#         a = []\n",
    "#         for j in i[0]:\n",
    "#             a.append(j[0])\n",
    "#         print('----model:', a, 'AIC', round(i[1], 3), 'CN:', round(i[2], 3), 'vif_max:', round(i[3], 3), 'R2:', round(i[4], 3), '----'\n",
    "#              )\n",
    "        "
   ]
  },
  {
   "cell_type": "code",
   "execution_count": null,
   "metadata": {
    "collapsed": true
   },
   "outputs": [],
   "source": []
  },
  {
   "cell_type": "markdown",
   "metadata": {
    "collapsed": true
   },
   "source": [
    "# "
   ]
  }
 ],
 "metadata": {
  "kernelspec": {
   "display_name": "Python 3",
   "language": "python",
   "name": "python3"
  },
  "language_info": {
   "codemirror_mode": {
    "name": "ipython",
    "version": 3
   },
   "file_extension": ".py",
   "mimetype": "text/x-python",
   "name": "python",
   "nbconvert_exporter": "python",
   "pygments_lexer": "ipython3",
   "version": "3.6.0"
  }
 },
 "nbformat": 4,
 "nbformat_minor": 2
}
